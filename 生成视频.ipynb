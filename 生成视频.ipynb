{
 "cells": [
  {
   "cell_type": "code",
   "execution_count": 7,
   "id": "923552fa-8a56-4b7d-ba5c-757b7a2682cd",
   "metadata": {},
   "outputs": [
    {
     "name": "stdout",
     "output_type": "stream",
     "text": [
      "VideoObject(id='70131732071737034-9221298632307229605', model='cogvideox', video_result=None, task_status='PROCESSING', request_id='-9221298632307229606')\n"
     ]
    }
   ],
   "source": [
    "from zhipuai import ZhipuAI\n",
    "client = ZhipuAI(api_key=\"bc1610e162e897d3fe991cc63230fb8d.J28WrsWpEYqaxWaP\")\n",
    "\n",
    "response=client.videos.generations(\n",
    "   model=\"cogvideox\",\n",
    "   prompt=\"在阳光明媚的一天，一片空旷的草地上，一个中年男人正在与孩子们放风筝\"\n",
    ")\n",
    "print(response)"
   ]
  },
  {
   "cell_type": "code",
   "execution_count": 8,
   "id": "a9ad3188-eeef-4551-93ab-94ca83ab086a",
   "metadata": {},
   "outputs": [
    {
     "name": "stdout",
     "output_type": "stream",
     "text": [
      "VideoObject(id=None, model='cogvideox', video_result=[VideoResult(url='https://aigc-files.bigmodel.cn/api/cogvideo/5542f8b0-a80c-11ef-bd78-9ee7942420ea_0.mp4', cover_image_url='https://aigc-files.bigmodel.cn/api/cogvideo/5542f8b0-a80c-11ef-bd78-9ee7942420ea_cover_0.jpeg')], task_status='SUCCESS', request_id='-9221298632307229606')\n"
     ]
    }
   ],
   "source": [
    "client = ZhipuAI(api_key=\"bc1610e162e897d3fe991cc63230fb8d.J28WrsWpEYqaxWaP\")\n",
    "\n",
    "response = client.videos.retrieve_videos_result(\n",
    "    id=\"70131732071737034-9221298632307229605\"\n",
    ")\n",
    "print(response)"
   ]
  },
  {
   "cell_type": "code",
   "execution_count": null,
   "id": "6ad09fd4-41d3-4d7a-bd81-9da102c31147",
   "metadata": {},
   "outputs": [],
   "source": []
  }
 ],
 "metadata": {
  "kernelspec": {
   "display_name": "Python 3 (ipykernel)",
   "language": "python",
   "name": "python3"
  },
  "language_info": {
   "codemirror_mode": {
    "name": "ipython",
    "version": 3
   },
   "file_extension": ".py",
   "mimetype": "text/x-python",
   "name": "python",
   "nbconvert_exporter": "python",
   "pygments_lexer": "ipython3",
   "version": "3.11.7"
  }
 },
 "nbformat": 4,
 "nbformat_minor": 5
}
